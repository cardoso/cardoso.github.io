{
 "cells": [
  {
   "cell_type": "code",
   "execution_count": 55,
   "metadata": {},
   "outputs": [
    {
     "name": "stdout",
     "output_type": "stream",
     "text": [
      "Requirement already satisfied: Jinja2 in ./.venv/lib/python3.11/site-packages (3.1.3)\n",
      "Requirement already satisfied: MarkupSafe>=2.0 in ./.venv/lib/python3.11/site-packages (from Jinja2) (2.1.5)\n",
      "Note: you may need to restart the kernel to use updated packages.\n",
      "Requirement already satisfied: toml in ./.venv/lib/python3.11/site-packages (0.10.2)\n",
      "Note: you may need to restart the kernel to use updated packages.\n"
     ]
    }
   ],
   "source": [
    "%pip install Jinja2 --upgrade\n",
    "%pip install toml --upgrade"
   ]
  },
  {
   "cell_type": "code",
   "execution_count": 2,
   "metadata": {},
   "outputs": [
    {
     "data": {
      "text/html": [
       "<!DOCTYPE html>\n",
       "<html>\n",
       "\n",
       "<head>\n",
       "    <title>Resume - Matheus Cardoso</title>\n",
       "    <meta charset=\"UTF-8\">\n",
       "    <style>\n",
       "        body {\n",
       "            font-family: Arial, sans-serif;\n",
       "            margin: 0;\n",
       "            padding: 0;\n",
       "        }\n",
       "\n",
       "        h1 {\n",
       "            font-size: 24px;\n",
       "            margin-bottom: 0;\n",
       "        }\n",
       "\n",
       "        h2 {\n",
       "            font-size: 20px;\n",
       "            margin-top: 0;\n",
       "        }\n",
       "\n",
       "        h3 {\n",
       "            font-size: 18px;\n",
       "            margin-top: 0;\n",
       "        }\n",
       "\n",
       "        ul {\n",
       "            list-style-type: none;\n",
       "            padding: 0;\n",
       "        }\n",
       "\n",
       "        li {\n",
       "            margin-bottom: 10px;\n",
       "        }\n",
       "\n",
       "        strong {\n",
       "            font-weight: bold;\n",
       "        }\n",
       "\n",
       "        a {\n",
       "            color: #0000EE;\n",
       "            text-decoration: none;\n",
       "        }\n",
       "\n",
       "        a:hover {\n",
       "            text-decoration: underline;\n",
       "        }\n",
       "    </style>\n",
       "</head>\n",
       "\n",
       "<body>\n",
       "    <h1>Matheus Cardoso - Software Engineer</h1>\n",
       "    <ul><li><strong>Email:</strong> <a href=\"mailto:matheus@cardo.so\">matheus@cardo.so</a></li><li><strong>GitHub:</strong> <a href=\"https://github.com/cardoso\">cardoso</a></li><li><strong>LinkedIn:</strong> <a href=\"https://www.linkedin.com/in/cardosodev\">cardosodev</a></li><li><strong>Twitter:</strong> <a href=\"https://twitter.com/cardosodev\">cardosodev</a></li></ul>\n",
       "    <h2>Profile</h2>\n",
       "    <p>Highly skilled Developer Advocate and Full Stack Engineer with extensive experience in developing and advocating for state-of-the-art technology solutions.\n",
       "Passionate about improving development experience and obsessed with DevX, Matheus holds proven expertise in data analysis, software development across various stacks, and data security.\n",
       "He is a strong advocate for open-source software and has a proven track record of building and maintaining developer communities.\n",
       "</p>\n",
       "    <h2>Experience</h2><h3>Full Stack Engineer</h3>\n",
       "    <ul>\n",
       "        <li><strong>Company:</strong> SecurityScorecard</li><li><strong>Website:</strong> <a href=\"https://securityscorecard.com\">https://securityscorecard.com</a></li><li><strong>Location:</strong> New York, NY</li><li><strong>Period:</strong> 2023 - Present</li><li>As a full stack engineer in the Sales Enablement department under the Marketing division, I built new automations to deliver value quickly to prospects, designed reports, assisted in customer meetings, and created demos to showcase cutting-edge threat research and intelligence offerings.</li></ul><h3>Senior Developer Advocate</h3>\n",
       "    <ul>\n",
       "        <li><strong>Company:</strong> Bitmovin</li><li><strong>Website:</strong> <a href=\"https://bitmovin.com\">https://bitmovin.com</a></li><li><strong>Location:</strong> San Francisco, CA</li><li><strong>Period:</strong> 2021 - 2023</li><li>Under the solutions department, I built and launched the official community platform, I helped drive decisions that improve Developer Experience, built in integrations to facilitate the interface between developers and the company, as well as tightened the relationship between our partners.</li></ul><h3>Senior Developer Advocate</h3>\n",
       "    <ul>\n",
       "        <li><strong>Company:</strong> Stream</li><li><strong>Website:</strong> <a href=\"https://getstream.io\">https://getstream.io</a></li><li><strong>Location:</strong> Boulder, CO</li><li><strong>Period:</strong> 2020 - 2021</li><li>I was responsible for building and maintaining the developer community, creating content, and providing technical support to developers using the Stream API. I also worked closely with the product team to provide feedback and help shape the product roadmap.</li></ul><h3>Developer Relations Engineer</h3>\n",
       "    <ul>\n",
       "        <li><strong>Company:</strong> Virgil Security</li><li><strong>Website:</strong> <a href=\"https://virgilsecurity.com\">https://virgilsecurity.com</a></li><li><strong>Location:</strong> Manassas, VA</li><li><strong>Period:</strong> 2019 - 2020</li><li>I implemented DevRel practices and culture, as well as helped developers and founders on a daily basis build secure solutions that need to comply with HIPAA and GDPR.</li></ul><h3>iOS Engineer</h3>\n",
       "    <ul>\n",
       "        <li><strong>Company:</strong> Rocket.Chat</li><li><strong>Website:</strong> <a href=\"https://rocket.chat\">https://rocket.chat</a></li><li><strong>Location:</strong> Porto Alegre, Brazil</li><li><strong>Period:</strong> 2017 - 2019</li><li>I was in charge of maintaining and developing new features for the iOS App in Swift and Objective-C, writing unit tests and managing Open Source contributions.</li></ul><h3>iOS Engineer</h3>\n",
       "    <ul>\n",
       "        <li><strong>Company:</strong> Apple Developer Academy</li><li><strong>Website:</strong> <a href=\"https://developer.apple.com/academies/\">https://developer.apple.com/academies/</a></li><li><strong>Location:</strong> Fortaleza, Brazil</li><li><strong>Period:</strong> 2016 - 2017</li><li>I was in charge of developing new Apps and back-end services for iOS, Apple TV and Apple Watch.</li></ul></body>\n",
       "\n",
       "</html>"
      ],
      "text/plain": [
       "<IPython.core.display.HTML object>"
      ]
     },
     "metadata": {},
     "output_type": "display_data"
    }
   ],
   "source": [
    "import tomllib as toml\n",
    "import jinja2\n",
    "from IPython.display import display, HTML\n",
    "\n",
    "# Reads the markdown file\n",
    "with open(\"resume.toml\", \"r\") as file:\n",
    "    content = file.read()\n",
    "    resume = toml.loads(content)\n",
    "\n",
    "# Reads the template file\n",
    "with open(\"template.html\", \"r\") as file:\n",
    "    content = file.read()\n",
    "    template = jinja2.Template(content)\n",
    "\n",
    "# Renders the template with the HTML content\n",
    "html = template.render(resume)\n",
    "\n",
    "# Writes the result to the output file\n",
    "with open(\"index.html\", \"w\") as file:\n",
    "    file.write(html)\n",
    "\n",
    "display(HTML(html))"
   ]
  }
 ],
 "metadata": {
  "kernelspec": {
   "display_name": ".venv",
   "language": "python",
   "name": "python3"
  },
  "language_info": {
   "codemirror_mode": {
    "name": "ipython",
    "version": 3
   },
   "file_extension": ".py",
   "mimetype": "text/x-python",
   "name": "python",
   "nbconvert_exporter": "python",
   "pygments_lexer": "ipython3",
   "version": "3.11.6"
  }
 },
 "nbformat": 4,
 "nbformat_minor": 2
}
